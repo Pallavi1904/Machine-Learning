{
 "cells": [
  {
   "cell_type": "code",
   "execution_count": 50,
   "id": "72838491-f408-4981-8179-8fc6d1d39b5c",
   "metadata": {},
   "outputs": [],
   "source": [
    "import pandas as pd\n",
    "import matplotlib.pyplot as plt\n",
    "import seaborn as sns\n",
    "from mlxtend.plotting import plot_decision_regions"
   ]
  },
  {
   "cell_type": "code",
   "execution_count": 52,
   "id": "a77603ab-47bb-4cae-8ee4-1f83af870844",
   "metadata": {},
   "outputs": [],
   "source": [
    "df = pd.read_csv(r\"collegePlace.csv\")"
   ]
  },
  {
   "cell_type": "code",
   "execution_count": 54,
   "id": "011a14e0-142e-4244-885c-d456cd48c117",
   "metadata": {},
   "outputs": [],
   "source": [
    "df.drop(columns=[\"Stream\"], inplace= True) #gender is also droped"
   ]
  },
  {
   "cell_type": "code",
   "execution_count": 56,
   "id": "d850a788-00ef-4eb1-9c74-d1fa0a530743",
   "metadata": {},
   "outputs": [],
   "source": [
    "df.drop(columns=[\"Gender\"], inplace= True) #gender is also droped"
   ]
  },
  {
   "cell_type": "code",
   "execution_count": 58,
   "id": "eb1ff656-14b5-4f12-a802-eeb6c91d7b73",
   "metadata": {},
   "outputs": [
    {
     "data": {
      "text/html": [
       "<div>\n",
       "<style scoped>\n",
       "    .dataframe tbody tr th:only-of-type {\n",
       "        vertical-align: middle;\n",
       "    }\n",
       "\n",
       "    .dataframe tbody tr th {\n",
       "        vertical-align: top;\n",
       "    }\n",
       "\n",
       "    .dataframe thead th {\n",
       "        text-align: right;\n",
       "    }\n",
       "</style>\n",
       "<table border=\"1\" class=\"dataframe\">\n",
       "  <thead>\n",
       "    <tr style=\"text-align: right;\">\n",
       "      <th></th>\n",
       "      <th>Age</th>\n",
       "      <th>Internships</th>\n",
       "      <th>CGPA</th>\n",
       "      <th>Hostel</th>\n",
       "      <th>HistoryOfBacklogs</th>\n",
       "      <th>PlacedOrNot</th>\n",
       "    </tr>\n",
       "  </thead>\n",
       "  <tbody>\n",
       "    <tr>\n",
       "      <th>0</th>\n",
       "      <td>22</td>\n",
       "      <td>1</td>\n",
       "      <td>8</td>\n",
       "      <td>1</td>\n",
       "      <td>1</td>\n",
       "      <td>1</td>\n",
       "    </tr>\n",
       "    <tr>\n",
       "      <th>1</th>\n",
       "      <td>21</td>\n",
       "      <td>0</td>\n",
       "      <td>7</td>\n",
       "      <td>1</td>\n",
       "      <td>1</td>\n",
       "      <td>1</td>\n",
       "    </tr>\n",
       "    <tr>\n",
       "      <th>2</th>\n",
       "      <td>22</td>\n",
       "      <td>1</td>\n",
       "      <td>6</td>\n",
       "      <td>0</td>\n",
       "      <td>0</td>\n",
       "      <td>1</td>\n",
       "    </tr>\n",
       "    <tr>\n",
       "      <th>3</th>\n",
       "      <td>21</td>\n",
       "      <td>0</td>\n",
       "      <td>8</td>\n",
       "      <td>0</td>\n",
       "      <td>1</td>\n",
       "      <td>1</td>\n",
       "    </tr>\n",
       "    <tr>\n",
       "      <th>4</th>\n",
       "      <td>22</td>\n",
       "      <td>0</td>\n",
       "      <td>8</td>\n",
       "      <td>1</td>\n",
       "      <td>0</td>\n",
       "      <td>1</td>\n",
       "    </tr>\n",
       "  </tbody>\n",
       "</table>\n",
       "</div>"
      ],
      "text/plain": [
       "   Age  Internships  CGPA  Hostel  HistoryOfBacklogs  PlacedOrNot\n",
       "0   22            1     8       1                  1            1\n",
       "1   21            0     7       1                  1            1\n",
       "2   22            1     6       0                  0            1\n",
       "3   21            0     8       0                  1            1\n",
       "4   22            0     8       1                  0            1"
      ]
     },
     "execution_count": 58,
     "metadata": {},
     "output_type": "execute_result"
    }
   ],
   "source": [
    "df.head()"
   ]
  },
  {
   "cell_type": "code",
   "execution_count": 60,
   "id": "23256684-e3fd-4620-82cc-50a11c5ee37f",
   "metadata": {},
   "outputs": [
    {
     "data": {
      "text/plain": [
       "Age                  0\n",
       "Internships          0\n",
       "CGPA                 0\n",
       "Hostel               0\n",
       "HistoryOfBacklogs    0\n",
       "PlacedOrNot          0\n",
       "dtype: int64"
      ]
     },
     "execution_count": 60,
     "metadata": {},
     "output_type": "execute_result"
    }
   ],
   "source": [
    "df.isnull().sum()"
   ]
  },
  {
   "cell_type": "code",
   "execution_count": 62,
   "id": "aa03626f-6652-48ae-95f2-8681f6e74bdf",
   "metadata": {},
   "outputs": [
    {
     "data": {
      "image/png": "[encoded data removed]",
      "text/plain": [
       "<Figure size 1000x700 with 1 Axes>"
      ]
     },
     "metadata": {},
     "output_type": "display_data"
    }
   ],
   "source": [
    "plt.figure(figsize=(10,7))\n",
    "sns.scatterplot(x=\"CGPA\", y =\"PlacedOrNot\", data = df,hue=\"PlacedOrNot\")\n",
    "plt.show()"
   ]
  },
  {
   "cell_type": "code",
   "execution_count": 63,
   "id": "1ce6c030-97c4-4100-82b2-90b7ce0dad71",
   "metadata": {},
   "outputs": [],
   "source": [
    "x = df.iloc[:,:-1]\n",
    "y = df[\"PlacedOrNot\"]"
   ]
  },
  {
   "cell_type": "code",
   "execution_count": 66,
   "id": "1ddb621b-abd5-4598-bdc5-d4c6ff9a431e",
   "metadata": {},
   "outputs": [],
   "source": [
    "from sklearn.model_selection import train_test_split"
   ]
  },
  {
   "cell_type": "code",
   "execution_count": 68,
   "id": "dc555168-63b0-4562-b4ba-a2567563a2a4",
   "metadata": {},
   "outputs": [],
   "source": [
    "x_train, x_test, y_train, y_test = train_test_split(x,y,test_size=0.2,random_state=42) "
   ]
  },
  {
   "cell_type": "code",
   "execution_count": 70,
   "id": "31c89dbf-0d80-4812-a24d-88b9f4b95fb5",
   "metadata": {},
   "outputs": [],
   "source": [
    "from sklearn.naive_bayes import GaussianNB,MultinomialNB,BernoulliNB"
   ]
  },
  {
   "cell_type": "markdown",
   "id": "14e3d78e-1cba-4978-b468-c7a80ceb9958",
   "metadata": {},
   "source": [
    "# Gaussian"
   ]
  },
  {
   "cell_type": "code",
   "execution_count": 72,
   "id": "007bccf0-3e98-4c72-8656-024f755ff26f",
   "metadata": {},
   "outputs": [
    {
     "data": {
      "text/plain": [
       "78.28282828282829"
      ]
     },
     "execution_count": 72,
     "metadata": {},
     "output_type": "execute_result"
    }
   ],
   "source": [
    "gnb = GaussianNB()  #Feature having normal distribution\n",
    "gnb.fit(x_train,y_train)\n",
    "gnb.score(x_test,y_test)*100"
   ]
  },
  {
   "cell_type": "markdown",
   "id": "a434b92e-420b-4fa8-a83d-06cffe9d8f21",
   "metadata": {},
   "source": [
    "# Bernoulli"
   ]
  },
  {
   "cell_type": "code",
   "execution_count": 74,
   "id": "f1159df6-ff10-4c18-9544-68c0b825bf13",
   "metadata": {},
   "outputs": [
    {
     "data": {
      "text/plain": [
       "54.882154882154886"
      ]
     },
     "execution_count": 74,
     "metadata": {},
     "output_type": "execute_result"
    }
   ],
   "source": [
    "bnb = BernoulliNB()  #Feature having Binary data\n",
    "bnb.fit(x_train,y_train)\n",
    "bnb.score(x_test,y_test)*100"
   ]
  },
  {
   "cell_type": "markdown",
   "id": "28574d1e-218a-4ce2-ad41-8619ed5b38d4",
   "metadata": {},
   "source": [
    "# Multinomial"
   ]
  },
  {
   "cell_type": "code",
   "execution_count": 91,
   "id": "6c98c59c-b240-46e1-a279-e4f985dcac31",
   "metadata": {},
   "outputs": [
    {
     "data": {
      "text/plain": [
       "61.95286195286195"
      ]
     },
     "execution_count": 91,
     "metadata": {},
     "output_type": "execute_result"
    }
   ],
   "source": [
    "mlm = MultinomialNB()  #Feature having decrete or text data\n",
    "mlm.fit(x_train,y_train)\n",
    "mlm.score(x_test,y_test)*100"
   ]
  },
  {
   "cell_type": "code",
   "execution_count": null,
   "id": "b919ccfe-444d-4c4e-a331-7325ae4e0d82",
   "metadata": {},
   "outputs": [],
   "source": [
    " # TRY ON ANOTHER DATASET "
   ]
  }
 ],
 "metadata": {
  "kernelspec": {
   "display_name": "Python [conda env:base] *",
   "language": "python",
   "name": "conda-base-py"
  },
  "language_info": {
   "codemirror_mode": {
    "name": "ipython",
    "version": 3
   },
   "file_extension": ".py",
   "mimetype": "text/x-python",
   "name": "python",
   "nbconvert_exporter": "python",
   "pygments_lexer": "ipython3",
   "version": "3.12.7"
  }
 },
 "nbformat": 4,
 "nbformat_minor": 5
}
