{
 "cells": [
  {
   "cell_type": "code",
   "execution_count": 105,
   "id": "97753591-d488-4a8b-81dd-59daefc0f4c9",
   "metadata": {},
   "outputs": [],
   "source": [
    "import pandas as pd\n",
    "import matplotlib.pyplot as plt\n",
    "import seaborn as sns"
   ]
  },
  {
   "cell_type": "code",
   "execution_count": 107,
   "id": "04e03658-0b6d-4ab2-9bb8-11528548eae6",
   "metadata": {},
   "outputs": [],
   "source": [
    "df = pd.read_csv(r\"collegePlace.csv\")"
   ]
  },
  {
   "cell_type": "code",
   "execution_count": 109,
   "id": "95317573-b44e-4497-a469-70616f5c58a6",
   "metadata": {},
   "outputs": [],
   "source": [
    "df.drop(columns=[\"Stream\"], inplace= True) #gender is also droped"
   ]
  },
  {
   "cell_type": "code",
   "execution_count": 111,
   "id": "395da943-53a5-40d8-b2c9-f9767be32f77",
   "metadata": {},
   "outputs": [],
   "source": [
    "df.drop(columns=[\"Gender\"], inplace= True) #gender is also droped"
   ]
  },
  {
   "cell_type": "code",
   "execution_count": 113,
   "id": "65fd3164-3578-49bc-b70d-5a9bef0aa901",
   "metadata": {},
   "outputs": [
    {
     "data": {
      "text/html": [
       "<div>\n",
       "<style scoped>\n",
       "    .dataframe tbody tr th:only-of-type {\n",
       "        vertical-align: middle;\n",
       "    }\n",
       "\n",
       "    .dataframe tbody tr th {\n",
       "        vertical-align: top;\n",
       "    }\n",
       "\n",
       "    .dataframe thead th {\n",
       "        text-align: right;\n",
       "    }\n",
       "</style>\n",
       "<table border=\"1\" class=\"dataframe\">\n",
       "  <thead>\n",
       "    <tr style=\"text-align: right;\">\n",
       "      <th></th>\n",
       "      <th>Age</th>\n",
       "      <th>Internships</th>\n",
       "      <th>CGPA</th>\n",
       "      <th>Hostel</th>\n",
       "      <th>HistoryOfBacklogs</th>\n",
       "      <th>PlacedOrNot</th>\n",
       "    </tr>\n",
       "  </thead>\n",
       "  <tbody>\n",
       "    <tr>\n",
       "      <th>0</th>\n",
       "      <td>22</td>\n",
       "      <td>1</td>\n",
       "      <td>8</td>\n",
       "      <td>1</td>\n",
       "      <td>1</td>\n",
       "      <td>1</td>\n",
       "    </tr>\n",
       "    <tr>\n",
       "      <th>1</th>\n",
       "      <td>21</td>\n",
       "      <td>0</td>\n",
       "      <td>7</td>\n",
       "      <td>1</td>\n",
       "      <td>1</td>\n",
       "      <td>1</td>\n",
       "    </tr>\n",
       "    <tr>\n",
       "      <th>2</th>\n",
       "      <td>22</td>\n",
       "      <td>1</td>\n",
       "      <td>6</td>\n",
       "      <td>0</td>\n",
       "      <td>0</td>\n",
       "      <td>1</td>\n",
       "    </tr>\n",
       "    <tr>\n",
       "      <th>3</th>\n",
       "      <td>21</td>\n",
       "      <td>0</td>\n",
       "      <td>8</td>\n",
       "      <td>0</td>\n",
       "      <td>1</td>\n",
       "      <td>1</td>\n",
       "    </tr>\n",
       "    <tr>\n",
       "      <th>4</th>\n",
       "      <td>22</td>\n",
       "      <td>0</td>\n",
       "      <td>8</td>\n",
       "      <td>1</td>\n",
       "      <td>0</td>\n",
       "      <td>1</td>\n",
       "    </tr>\n",
       "  </tbody>\n",
       "</table>\n",
       "</div>"
      ],
      "text/plain": [
       "   Age  Internships  CGPA  Hostel  HistoryOfBacklogs  PlacedOrNot\n",
       "0   22            1     8       1                  1            1\n",
       "1   21            0     7       1                  1            1\n",
       "2   22            1     6       0                  0            1\n",
       "3   21            0     8       0                  1            1\n",
       "4   22            0     8       1                  0            1"
      ]
     },
     "execution_count": 113,
     "metadata": {},
     "output_type": "execute_result"
    }
   ],
   "source": [
    "df.head()"
   ]
  },
  {
   "cell_type": "code",
   "execution_count": 115,
   "id": "dca620b5-5f28-45a6-9827-53cc9f62a416",
   "metadata": {},
   "outputs": [
    {
     "data": {
      "text/plain": [
       "PlacedOrNot\n",
       "1    1639\n",
       "0    1327\n",
       "Name: count, dtype: int64"
      ]
     },
     "execution_count": 115,
     "metadata": {},
     "output_type": "execute_result"
    }
   ],
   "source": [
    "# To cheak imbalance dataset\n",
    "df[\"PlacedOrNot\"].value_counts()"
   ]
  },
  {
   "cell_type": "code",
   "execution_count": 117,
   "id": "ca5554ef-9a19-43fe-9463-dbdfe1c9e1cf",
   "metadata": {},
   "outputs": [],
   "source": [
    "x = df.iloc[:,:-1]\n",
    "y= df[\"PlacedOrNot\"]"
   ]
  },
  {
   "cell_type": "markdown",
   "id": "79e7a971-039b-450a-87df-28925e2ea09c",
   "metadata": {},
   "source": [
    "# Random Under Sample"
   ]
  },
  {
   "cell_type": "code",
   "execution_count": 119,
   "id": "4cc504eb-c33d-46ea-8136-02fe2d196ffd",
   "metadata": {},
   "outputs": [],
   "source": [
    "from imblearn.under_sampling import RandomUnderSampler"
   ]
  },
  {
   "cell_type": "code",
   "execution_count": 121,
   "id": "f3ec96af-f71c-4b7a-9088-1d287c7dab45",
   "metadata": {},
   "outputs": [],
   "source": [
    "re = RandomUnderSampler()"
   ]
  },
  {
   "cell_type": "code",
   "execution_count": 123,
   "id": "0e4b9f0e-6c2b-475f-a14e-4a3761ba1694",
   "metadata": {},
   "outputs": [],
   "source": [
    "re_x, re_y = re.fit_resample(x,y)"
   ]
  },
  {
   "cell_type": "code",
   "execution_count": 125,
   "id": "19690441-6e99-4b0c-a077-13ae3fbe74be",
   "metadata": {},
   "outputs": [
    {
     "data": {
      "text/html": [
       "<div>\n",
       "<style scoped>\n",
       "    .dataframe tbody tr th:only-of-type {\n",
       "        vertical-align: middle;\n",
       "    }\n",
       "\n",
       "    .dataframe tbody tr th {\n",
       "        vertical-align: top;\n",
       "    }\n",
       "\n",
       "    .dataframe thead th {\n",
       "        text-align: right;\n",
       "    }\n",
       "</style>\n",
       "<table border=\"1\" class=\"dataframe\">\n",
       "  <thead>\n",
       "    <tr style=\"text-align: right;\">\n",
       "      <th></th>\n",
       "      <th>Age</th>\n",
       "      <th>Internships</th>\n",
       "      <th>CGPA</th>\n",
       "      <th>Hostel</th>\n",
       "      <th>HistoryOfBacklogs</th>\n",
       "    </tr>\n",
       "  </thead>\n",
       "  <tbody>\n",
       "    <tr>\n",
       "      <th>5</th>\n",
       "      <td>22</td>\n",
       "      <td>0</td>\n",
       "      <td>6</td>\n",
       "      <td>0</td>\n",
       "      <td>0</td>\n",
       "    </tr>\n",
       "    <tr>\n",
       "      <th>6</th>\n",
       "      <td>21</td>\n",
       "      <td>0</td>\n",
       "      <td>7</td>\n",
       "      <td>0</td>\n",
       "      <td>1</td>\n",
       "    </tr>\n",
       "    <tr>\n",
       "      <th>7</th>\n",
       "      <td>21</td>\n",
       "      <td>1</td>\n",
       "      <td>7</td>\n",
       "      <td>0</td>\n",
       "      <td>0</td>\n",
       "    </tr>\n",
       "    <tr>\n",
       "      <th>9</th>\n",
       "      <td>21</td>\n",
       "      <td>1</td>\n",
       "      <td>6</td>\n",
       "      <td>1</td>\n",
       "      <td>0</td>\n",
       "    </tr>\n",
       "    <tr>\n",
       "      <th>10</th>\n",
       "      <td>22</td>\n",
       "      <td>1</td>\n",
       "      <td>7</td>\n",
       "      <td>0</td>\n",
       "      <td>0</td>\n",
       "    </tr>\n",
       "    <tr>\n",
       "      <th>...</th>\n",
       "      <td>...</td>\n",
       "      <td>...</td>\n",
       "      <td>...</td>\n",
       "      <td>...</td>\n",
       "      <td>...</td>\n",
       "    </tr>\n",
       "    <tr>\n",
       "      <th>2034</th>\n",
       "      <td>22</td>\n",
       "      <td>3</td>\n",
       "      <td>6</td>\n",
       "      <td>0</td>\n",
       "      <td>0</td>\n",
       "    </tr>\n",
       "    <tr>\n",
       "      <th>1138</th>\n",
       "      <td>22</td>\n",
       "      <td>2</td>\n",
       "      <td>8</td>\n",
       "      <td>0</td>\n",
       "      <td>0</td>\n",
       "    </tr>\n",
       "    <tr>\n",
       "      <th>2147</th>\n",
       "      <td>21</td>\n",
       "      <td>1</td>\n",
       "      <td>9</td>\n",
       "      <td>0</td>\n",
       "      <td>0</td>\n",
       "    </tr>\n",
       "    <tr>\n",
       "      <th>134</th>\n",
       "      <td>23</td>\n",
       "      <td>1</td>\n",
       "      <td>6</td>\n",
       "      <td>1</td>\n",
       "      <td>1</td>\n",
       "    </tr>\n",
       "    <tr>\n",
       "      <th>1967</th>\n",
       "      <td>22</td>\n",
       "      <td>1</td>\n",
       "      <td>8</td>\n",
       "      <td>0</td>\n",
       "      <td>0</td>\n",
       "    </tr>\n",
       "  </tbody>\n",
       "</table>\n",
       "<p>2654 rows × 5 columns</p>\n",
       "</div>"
      ],
      "text/plain": [
       "      Age  Internships  CGPA  Hostel  HistoryOfBacklogs\n",
       "5      22            0     6       0                  0\n",
       "6      21            0     7       0                  1\n",
       "7      21            1     7       0                  0\n",
       "9      21            1     6       1                  0\n",
       "10     22            1     7       0                  0\n",
       "...   ...          ...   ...     ...                ...\n",
       "2034   22            3     6       0                  0\n",
       "1138   22            2     8       0                  0\n",
       "2147   21            1     9       0                  0\n",
       "134    23            1     6       1                  1\n",
       "1967   22            1     8       0                  0\n",
       "\n",
       "[2654 rows x 5 columns]"
      ]
     },
     "execution_count": 125,
     "metadata": {},
     "output_type": "execute_result"
    }
   ],
   "source": [
    "re_x"
   ]
  },
  {
   "cell_type": "code",
   "execution_count": 127,
   "id": "bb9640ef-28f6-4cb1-b9c1-79afe87f8374",
   "metadata": {},
   "outputs": [
    {
     "data": {
      "text/plain": [
       "5       0\n",
       "6       0\n",
       "7       0\n",
       "9       0\n",
       "10      0\n",
       "       ..\n",
       "2034    1\n",
       "1138    1\n",
       "2147    1\n",
       "134     1\n",
       "1967    1\n",
       "Name: PlacedOrNot, Length: 2654, dtype: int64"
      ]
     },
     "execution_count": 127,
     "metadata": {},
     "output_type": "execute_result"
    }
   ],
   "source": [
    "re_y"
   ]
  },
  {
   "cell_type": "code",
   "execution_count": 141,
   "id": "f20f9c87-1caa-4caa-b47b-20b62712fafc",
   "metadata": {},
   "outputs": [
    {
     "data": {
      "text/plain": [
       "PlacedOrNot\n",
       "0    1327\n",
       "1    1327\n",
       "Name: count, dtype: int64"
      ]
     },
     "execution_count": 141,
     "metadata": {},
     "output_type": "execute_result"
    }
   ],
   "source": [
    "re_y.value_counts()"
   ]
  },
  {
   "cell_type": "markdown",
   "id": "835f4eca-de6c-4d2c-ad1d-f952df0b5065",
   "metadata": {},
   "source": [
    "# Random Over Sample"
   ]
  },
  {
   "cell_type": "code",
   "execution_count": 143,
   "id": "37e1efa9-9c39-4288-b33b-3752e9adf4c7",
   "metadata": {},
   "outputs": [],
   "source": [
    "from imblearn.over_sampling import RandomOverSampler"
   ]
  },
  {
   "cell_type": "code",
   "execution_count": 145,
   "id": "6882f96e-8ce6-497c-bb02-7cdee9db4b6a",
   "metadata": {},
   "outputs": [],
   "source": [
    "ro = RandomOverSampler()"
   ]
  },
  {
   "cell_type": "code",
   "execution_count": 147,
   "id": "9ab0af67-df9c-4132-bb94-de15b6f90a2a",
   "metadata": {},
   "outputs": [],
   "source": [
    "ro_x, ro_y = ro.fit_resample(x,y)"
   ]
  },
  {
   "cell_type": "code",
   "execution_count": 149,
   "id": "b41370ef-412c-47f3-9e54-266ffadde2b4",
   "metadata": {},
   "outputs": [
    {
     "data": {
      "text/plain": [
       "PlacedOrNot\n",
       "1    1639\n",
       "0    1639\n",
       "Name: count, dtype: int64"
      ]
     },
     "execution_count": 149,
     "metadata": {},
     "output_type": "execute_result"
    }
   ],
   "source": [
    "ro_y.value_counts()"
   ]
  },
  {
   "cell_type": "code",
   "execution_count": 151,
   "id": "bf68c65d-2042-47a2-a02b-5312c77bcc39",
   "metadata": {},
   "outputs": [],
   "source": [
    "# Now ro_x, ro_y and re_x, re_y are given to logistic regression and then predict"
   ]
  },
  {
   "cell_type": "code",
   "execution_count": null,
   "id": "0da6d5bd-b8bc-43b0-8807-500e9702d325",
   "metadata": {},
   "outputs": [],
   "source": []
  }
 ],
 "metadata": {
  "kernelspec": {
   "display_name": "Python [conda env:base] *",
   "language": "python",
   "name": "conda-base-py"
  },
  "language_info": {
   "codemirror_mode": {
    "name": "ipython",
    "version": 3
   },
   "file_extension": ".py",
   "mimetype": "text/x-python",
   "name": "python",
   "nbconvert_exporter": "python",
   "pygments_lexer": "ipython3",
   "version": "3.12.7"
  }
 },
 "nbformat": 4,
 "nbformat_minor": 5
}
